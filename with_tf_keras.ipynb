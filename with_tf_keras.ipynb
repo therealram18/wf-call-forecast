{
  "nbformat": 4,
  "nbformat_minor": 0,
  "metadata": {
    "colab": {
      "provenance": []
    },
    "kernelspec": {
      "name": "python3",
      "display_name": "Python 3"
    },
    "language_info": {
      "name": "python"
    }
  },
  "cells": [
    {
      "cell_type": "markdown",
      "source": [
        "## Data Cleaning"
      ],
      "metadata": {
        "id": "KAPkyvqCcgHb"
      }
    },
    {
      "cell_type": "markdown",
      "source": [
        "Let us start by importing all necessary libraries"
      ],
      "metadata": {
        "id": "-wRzUW8rVI_5"
      }
    },
    {
      "cell_type": "code",
      "source": [
        "import numpy as np\n",
        "import pandas as pd\n",
        "import matplotlib.pyplot as plt\n",
        "from math import sqrt\n",
        "from sklearn.preprocessing import MinMaxScaler\n",
        "from sklearn.metrics import mean_absolute_percentage_error\n",
        "from sklearn.metrics import mean_squared_error\n",
        "\n",
        "\n",
        "from statsmodels.tsa.seasonal import seasonal_decompose\n",
        "from keras.preprocessing.sequence import TimeseriesGenerator\n",
        "from keras.models import Sequential\n",
        "from keras.layers import Dense\n",
        "from keras.layers import Dropout\n",
        "from keras.layers import LSTM\n",
        "from keras.losses import MAPE\n",
        "from keras.losses import mse\n",
        "from keras.optimizers import Adam"
      ],
      "metadata": {
        "id": "NwVLY6Z47O8D"
      },
      "execution_count": null,
      "outputs": []
    },
    {
      "cell_type": "markdown",
      "source": [
        "Let us reading the given CSV file"
      ],
      "metadata": {
        "id": "kg6xkOnlVwqs"
      }
    },
    {
      "cell_type": "code",
      "source": [
        "df = pd.read_excel(\"data.xlsx\")\n",
        "\n",
        "df"
      ],
      "metadata": {
        "colab": {
          "base_uri": "https://localhost:8080/",
          "height": 423
        },
        "id": "_PhpIiGiI00t",
        "outputId": "4f4e3ff1-f254-4392-df88-11404cdb2091"
      },
      "execution_count": null,
      "outputs": [
        {
          "output_type": "execute_result",
          "data": {
            "text/plain": [
              "           Date  No_of_calls_from_commercial_card  \\\n",
              "0    2017-01-01                             264.0   \n",
              "1    2017-01-02                             528.0   \n",
              "2    2017-01-03                            2505.0   \n",
              "3    2017-01-04                            2145.0   \n",
              "4    2017-01-05                            2164.0   \n",
              "...         ...                               ...   \n",
              "1668 2021-07-27                               NaN   \n",
              "1669 2021-07-28                               NaN   \n",
              "1670 2021-07-29                               NaN   \n",
              "1671 2021-07-30                               NaN   \n",
              "1672 2021-07-31                               NaN   \n",
              "\n",
              "      No_of_calls_from_retail_card  No_of_calls_from_student_card  \n",
              "0                            403.0                          860.0  \n",
              "1                            792.0                         1681.0  \n",
              "2                           3774.0                         7639.0  \n",
              "3                           3236.0                         6513.0  \n",
              "4                           3265.0                         6604.0  \n",
              "...                            ...                            ...  \n",
              "1668                           NaN                            NaN  \n",
              "1669                           NaN                            NaN  \n",
              "1670                           NaN                            NaN  \n",
              "1671                           NaN                            NaN  \n",
              "1672                           NaN                            NaN  \n",
              "\n",
              "[1673 rows x 4 columns]"
            ],
            "text/html": [
              "\n",
              "  <div id=\"df-d0b25b89-79dc-40c0-ae78-6d6340a01beb\">\n",
              "    <div class=\"colab-df-container\">\n",
              "      <div>\n",
              "<style scoped>\n",
              "    .dataframe tbody tr th:only-of-type {\n",
              "        vertical-align: middle;\n",
              "    }\n",
              "\n",
              "    .dataframe tbody tr th {\n",
              "        vertical-align: top;\n",
              "    }\n",
              "\n",
              "    .dataframe thead th {\n",
              "        text-align: right;\n",
              "    }\n",
              "</style>\n",
              "<table border=\"1\" class=\"dataframe\">\n",
              "  <thead>\n",
              "    <tr style=\"text-align: right;\">\n",
              "      <th></th>\n",
              "      <th>Date</th>\n",
              "      <th>No_of_calls_from_commercial_card</th>\n",
              "      <th>No_of_calls_from_retail_card</th>\n",
              "      <th>No_of_calls_from_student_card</th>\n",
              "    </tr>\n",
              "  </thead>\n",
              "  <tbody>\n",
              "    <tr>\n",
              "      <th>0</th>\n",
              "      <td>2017-01-01</td>\n",
              "      <td>264.0</td>\n",
              "      <td>403.0</td>\n",
              "      <td>860.0</td>\n",
              "    </tr>\n",
              "    <tr>\n",
              "      <th>1</th>\n",
              "      <td>2017-01-02</td>\n",
              "      <td>528.0</td>\n",
              "      <td>792.0</td>\n",
              "      <td>1681.0</td>\n",
              "    </tr>\n",
              "    <tr>\n",
              "      <th>2</th>\n",
              "      <td>2017-01-03</td>\n",
              "      <td>2505.0</td>\n",
              "      <td>3774.0</td>\n",
              "      <td>7639.0</td>\n",
              "    </tr>\n",
              "    <tr>\n",
              "      <th>3</th>\n",
              "      <td>2017-01-04</td>\n",
              "      <td>2145.0</td>\n",
              "      <td>3236.0</td>\n",
              "      <td>6513.0</td>\n",
              "    </tr>\n",
              "    <tr>\n",
              "      <th>4</th>\n",
              "      <td>2017-01-05</td>\n",
              "      <td>2164.0</td>\n",
              "      <td>3265.0</td>\n",
              "      <td>6604.0</td>\n",
              "    </tr>\n",
              "    <tr>\n",
              "      <th>...</th>\n",
              "      <td>...</td>\n",
              "      <td>...</td>\n",
              "      <td>...</td>\n",
              "      <td>...</td>\n",
              "    </tr>\n",
              "    <tr>\n",
              "      <th>1668</th>\n",
              "      <td>2021-07-27</td>\n",
              "      <td>NaN</td>\n",
              "      <td>NaN</td>\n",
              "      <td>NaN</td>\n",
              "    </tr>\n",
              "    <tr>\n",
              "      <th>1669</th>\n",
              "      <td>2021-07-28</td>\n",
              "      <td>NaN</td>\n",
              "      <td>NaN</td>\n",
              "      <td>NaN</td>\n",
              "    </tr>\n",
              "    <tr>\n",
              "      <th>1670</th>\n",
              "      <td>2021-07-29</td>\n",
              "      <td>NaN</td>\n",
              "      <td>NaN</td>\n",
              "      <td>NaN</td>\n",
              "    </tr>\n",
              "    <tr>\n",
              "      <th>1671</th>\n",
              "      <td>2021-07-30</td>\n",
              "      <td>NaN</td>\n",
              "      <td>NaN</td>\n",
              "      <td>NaN</td>\n",
              "    </tr>\n",
              "    <tr>\n",
              "      <th>1672</th>\n",
              "      <td>2021-07-31</td>\n",
              "      <td>NaN</td>\n",
              "      <td>NaN</td>\n",
              "      <td>NaN</td>\n",
              "    </tr>\n",
              "  </tbody>\n",
              "</table>\n",
              "<p>1673 rows × 4 columns</p>\n",
              "</div>\n",
              "      <button class=\"colab-df-convert\" onclick=\"convertToInteractive('df-d0b25b89-79dc-40c0-ae78-6d6340a01beb')\"\n",
              "              title=\"Convert this dataframe to an interactive table.\"\n",
              "              style=\"display:none;\">\n",
              "        \n",
              "  <svg xmlns=\"http://www.w3.org/2000/svg\" height=\"24px\"viewBox=\"0 0 24 24\"\n",
              "       width=\"24px\">\n",
              "    <path d=\"M0 0h24v24H0V0z\" fill=\"none\"/>\n",
              "    <path d=\"M18.56 5.44l.94 2.06.94-2.06 2.06-.94-2.06-.94-.94-2.06-.94 2.06-2.06.94zm-11 1L8.5 8.5l.94-2.06 2.06-.94-2.06-.94L8.5 2.5l-.94 2.06-2.06.94zm10 10l.94 2.06.94-2.06 2.06-.94-2.06-.94-.94-2.06-.94 2.06-2.06.94z\"/><path d=\"M17.41 7.96l-1.37-1.37c-.4-.4-.92-.59-1.43-.59-.52 0-1.04.2-1.43.59L10.3 9.45l-7.72 7.72c-.78.78-.78 2.05 0 2.83L4 21.41c.39.39.9.59 1.41.59.51 0 1.02-.2 1.41-.59l7.78-7.78 2.81-2.81c.8-.78.8-2.07 0-2.86zM5.41 20L4 18.59l7.72-7.72 1.47 1.35L5.41 20z\"/>\n",
              "  </svg>\n",
              "      </button>\n",
              "      \n",
              "  <style>\n",
              "    .colab-df-container {\n",
              "      display:flex;\n",
              "      flex-wrap:wrap;\n",
              "      gap: 12px;\n",
              "    }\n",
              "\n",
              "    .colab-df-convert {\n",
              "      background-color: #E8F0FE;\n",
              "      border: none;\n",
              "      border-radius: 50%;\n",
              "      cursor: pointer;\n",
              "      display: none;\n",
              "      fill: #1967D2;\n",
              "      height: 32px;\n",
              "      padding: 0 0 0 0;\n",
              "      width: 32px;\n",
              "    }\n",
              "\n",
              "    .colab-df-convert:hover {\n",
              "      background-color: #E2EBFA;\n",
              "      box-shadow: 0px 1px 2px rgba(60, 64, 67, 0.3), 0px 1px 3px 1px rgba(60, 64, 67, 0.15);\n",
              "      fill: #174EA6;\n",
              "    }\n",
              "\n",
              "    [theme=dark] .colab-df-convert {\n",
              "      background-color: #3B4455;\n",
              "      fill: #D2E3FC;\n",
              "    }\n",
              "\n",
              "    [theme=dark] .colab-df-convert:hover {\n",
              "      background-color: #434B5C;\n",
              "      box-shadow: 0px 1px 3px 1px rgba(0, 0, 0, 0.15);\n",
              "      filter: drop-shadow(0px 1px 2px rgba(0, 0, 0, 0.3));\n",
              "      fill: #FFFFFF;\n",
              "    }\n",
              "  </style>\n",
              "\n",
              "      <script>\n",
              "        const buttonEl =\n",
              "          document.querySelector('#df-d0b25b89-79dc-40c0-ae78-6d6340a01beb button.colab-df-convert');\n",
              "        buttonEl.style.display =\n",
              "          google.colab.kernel.accessAllowed ? 'block' : 'none';\n",
              "\n",
              "        async function convertToInteractive(key) {\n",
              "          const element = document.querySelector('#df-d0b25b89-79dc-40c0-ae78-6d6340a01beb');\n",
              "          const dataTable =\n",
              "            await google.colab.kernel.invokeFunction('convertToInteractive',\n",
              "                                                     [key], {});\n",
              "          if (!dataTable) return;\n",
              "\n",
              "          const docLinkHtml = 'Like what you see? Visit the ' +\n",
              "            '<a target=\"_blank\" href=https://colab.research.google.com/notebooks/data_table.ipynb>data table notebook</a>'\n",
              "            + ' to learn more about interactive tables.';\n",
              "          element.innerHTML = '';\n",
              "          dataTable['output_type'] = 'display_data';\n",
              "          await google.colab.output.renderOutput(dataTable, element);\n",
              "          const docLink = document.createElement('div');\n",
              "          docLink.innerHTML = docLinkHtml;\n",
              "          element.appendChild(docLink);\n",
              "        }\n",
              "      </script>\n",
              "    </div>\n",
              "  </div>\n",
              "  "
            ]
          },
          "metadata": {},
          "execution_count": 2
        }
      ]
    },
    {
      "cell_type": "markdown",
      "source": [
        "From the problem statement, we know that the values given for the first year are accurate and the rest of the given values are scrambled. So we will first look at the accurate values"
      ],
      "metadata": {
        "id": "gewzrXuTW_yy"
      }
    },
    {
      "cell_type": "code",
      "source": [
        "commercial_card_accurate = df['No_of_calls_from_commercial_card'][:365]\n",
        "retail_card_accurate = df['No_of_calls_from_retail_card'][:365]\n",
        "student_card_accurate = df['No_of_calls_from_student_card'][:365]\n",
        "\n",
        "date = df['Date']"
      ],
      "metadata": {
        "id": "RhcItTHpO0ia"
      },
      "execution_count": null,
      "outputs": []
    },
    {
      "cell_type": "markdown",
      "source": [
        "Let us now observe the trend of these values over a small range, let us say the first 21 values (3 weeks)"
      ],
      "metadata": {
        "id": "dj26p7PJXKll"
      }
    },
    {
      "cell_type": "code",
      "source": [
        "x_axis = date[:21]\n",
        "y_axis1 = commercial_card_accurate[:21]\n",
        "y_axis2 = retail_card_accurate[:21]\n",
        "y_axis3 = student_card_accurate[:21]\n",
        "\n",
        "plt.plot(x_axis, y_axis1, color='blue', label='Commercial Card')\n",
        "plt.plot(x_axis, y_axis2, color='orange', label='Retail Card')\n",
        "plt.plot(x_axis, y_axis3, color='green', label='Student Card')\n",
        "\n",
        "plt.xlabel('Number of calls')\n",
        "plt.ylabel('Date')\n",
        "plt.legend()\n",
        "\n",
        "plt.show()"
      ],
      "metadata": {
        "colab": {
          "base_uri": "https://localhost:8080/",
          "height": 455
        },
        "id": "ZTvhQdcQO218",
        "outputId": "37a50678-5cd5-4349-d0d3-ac2f2f378c54"
      },
      "execution_count": null,
      "outputs": [
        {
          "output_type": "display_data",
          "data": {
            "text/plain": [
              "<Figure size 640x480 with 1 Axes>"
            ],
            "image/png": "[encoded data removed]"
          },
          "metadata": {}
        }
      ]
    },
    {
      "cell_type": "markdown",
      "source": [
        "The first thing that we can observe from the graph is that the number of calls for student cards > number of calls for retail cards > number of cards for commercial calls\n",
        "\n",
        "To verify this, let us check if this trend is valid throughout the dataset"
      ],
      "metadata": {
        "id": "8AgIFWVyYHLg"
      }
    },
    {
      "cell_type": "code",
      "source": [
        "#to verify that retail card>retail card>student card\n",
        "\n",
        "i=0\n",
        "for i in range (365):\n",
        "    if (student_card_accurate[i]<retail_card_accurate[i] or student_card_accurate[i]<commercial_card_accurate[i] or retail_card_accurate[i]<commercial_card_accurate[i]):\n",
        "        print(i)"
      ],
      "metadata": {
        "id": "j_dblY5oO4_8"
      },
      "execution_count": null,
      "outputs": []
    },
    {
      "cell_type": "markdown",
      "source": [
        "Since no output was generated, this means that the trend always holds true. So we can sort the remaining days according to this trend.\n",
        "\n",
        "Let us store the accurate values in a list, and the unsorted values after sorting"
      ],
      "metadata": {
        "id": "5mmvDVfEY_eH"
      }
    },
    {
      "cell_type": "code",
      "source": [
        "#sorting the values and storing them in lists\n",
        "\n",
        "commerical_card_complete=[]\n",
        "retail_card_complete=[]\n",
        "student_card_complete=[]\n",
        "\n",
        "for i in range (0,365):\n",
        "    commerical_card_complete.append(commercial_card_accurate[i])\n",
        "    retail_card_complete.append(retail_card_accurate[i])\n",
        "    student_card_complete.append(student_card_accurate[i])\n",
        "\n",
        "for i in range (365,df.shape[0]):\n",
        "    a=df.iloc[i]['No_of_calls_from_commercial_card']\n",
        "    b=df.iloc[i]['No_of_calls_from_retail_card']\n",
        "    c=df.iloc[i]['No_of_calls_from_student_card']\n",
        "\n",
        "    calls = [a,b,c]\n",
        "    calls.sort()\n",
        "\n",
        "    commerical_card_complete.append(calls[0])\n",
        "    retail_card_complete.append(calls[1])\n",
        "    student_card_complete.append(calls[2])\n"
      ],
      "metadata": {
        "id": "AQAQPTUcO7cU"
      },
      "execution_count": null,
      "outputs": []
    },
    {
      "cell_type": "markdown",
      "source": [
        "Let us now create a new dataframe of these accurate values\n",
        "\n",
        "As the problem statement asked us to create csv files for the entire dataset as well as just for the commercial card call vilume data, we shall create 2 new dataframes"
      ],
      "metadata": {
        "id": "CC1djB77ZxlY"
      }
    },
    {
      "cell_type": "code",
      "source": [
        "#to create a new dataframe\n",
        "corrected_data=[]\n",
        "corrected_data_commercial=[]\n",
        "\n",
        "for i in range (0,df.shape[0]):\n",
        "    date = df[\"Date\"][i]\n",
        "    com = commerical_card_complete[i]\n",
        "    ret = retail_card_complete[i]\n",
        "    stu = student_card_complete[i]\n",
        "    corrected_data_row = [date,com,ret,stu]\n",
        "    corrected_data_commercial_row = [date,com]\n",
        "    corrected_data.append(corrected_data_row)\n",
        "    corrected_data_commercial.append(corrected_data_commercial_row)"
      ],
      "metadata": {
        "id": "ULEv-4U7O9mv"
      },
      "execution_count": null,
      "outputs": []
    },
    {
      "cell_type": "markdown",
      "source": [
        "Lets us now store the data in a new csv file"
      ],
      "metadata": {
        "id": "-Dw9I02gaTed"
      }
    },
    {
      "cell_type": "code",
      "source": [
        "corrected_df=pd.DataFrame(corrected_data,columns=['Date','No_of_calls_from_commercial_card','No_of_calls_from_retail_card','No_of_calls_from_student_card'])\n",
        "corrected_df = corrected_df.set_index('Date')\n",
        "corrected_df.iloc[:-92,:].to_csv('Corrected_Data.csv')"
      ],
      "metadata": {
        "id": "HJFUqBr7O_oS"
      },
      "execution_count": null,
      "outputs": []
    },
    {
      "cell_type": "code",
      "source": [
        "corrected_commercial_df = pd.DataFrame(corrected_data_commercial,columns=['Date','No_of_calls_from_commercial_card'])\n",
        "corrected_commercial_df = corrected_commercial_df.set_index('Date')\n",
        "corrected_commercial_df.to_csv('Corrected_Commercial_Data.csv')"
      ],
      "metadata": {
        "id": "ug4KafAGPByP"
      },
      "execution_count": null,
      "outputs": []
    },
    {
      "cell_type": "markdown",
      "source": [
        "Let us plot all the values and try to see if we can interpret anything"
      ],
      "metadata": {
        "id": "BVTqgFKEbC5Q"
      }
    },
    {
      "cell_type": "code",
      "source": [
        "# plotting commercial card call volume\n",
        "\n",
        "x_values = [element[0] for element in corrected_data]\n",
        "y_values = [element[1] for element in corrected_data]\n",
        "\n",
        "plt.plot(x_values, y_values)\n",
        "plt.ylabel('Commercial Card Volume')\n",
        "plt.show()"
      ],
      "metadata": {
        "colab": {
          "base_uri": "https://localhost:8080/",
          "height": 430
        },
        "id": "YSYahRwdPEqa",
        "outputId": "9b0f50a6-2715-45dc-b3f9-652af88ed6d4"
      },
      "execution_count": null,
      "outputs": [
        {
          "output_type": "display_data",
          "data": {
            "text/plain": [
              "<Figure size 640x480 with 1 Axes>"
            ],
            "image/png": "[encoded data removed]"
          },
          "metadata": {}
        }
      ]
    },
    {
      "cell_type": "markdown",
      "source": [
        "Unfortunately, the data seems to reduce towards the end. This could negatively affect our training as we would train it on a relatively higher range of values, but expect the output to be in a much smaller range.\n",
        "\n",
        "So we will take relatively larger training sets to have more accurate predictions"
      ],
      "metadata": {
        "id": "F0QwU9VFbLlV"
      }
    },
    {
      "cell_type": "markdown",
      "source": [
        "Let us now try to see if any reptitive patterns can be broken down from the data. Let us analyse the first 120 values"
      ],
      "metadata": {
        "id": "aKqDJVmhbtVb"
      }
    },
    {
      "cell_type": "code",
      "source": [
        "#plotting for the first 120 values to see any repititive trend\n",
        "\n",
        "newdf = pd.read_csv('Corrected_Commercial_Data.csv', index_col='Date', parse_dates=True)\n",
        "\n",
        "results = seasonal_decompose(newdf['No_of_calls_from_commercial_card'][:120], model = 'additive')\n",
        "results.plot()"
      ],
      "metadata": {
        "colab": {
          "base_uri": "https://localhost:8080/",
          "height": 955
        },
        "id": "BiEzv1B5PGp1",
        "outputId": "ea7631c1-874a-459d-8977-464da19ecd5b"
      },
      "execution_count": null,
      "outputs": [
        {
          "output_type": "execute_result",
          "data": {
            "text/plain": [
              "<Figure size 640x480 with 4 Axes>"
            ],
            "image/png": "[encoded data removed]"
          },
          "metadata": {},
          "execution_count": 11
        },
        {
          "output_type": "display_data",
          "data": {
            "text/plain": [
              "<Figure size 640x480 with 4 Axes>"
            ],
            "image/png": "[encoded data removed]"
          },
          "metadata": {}
        }
      ]
    },
    {
      "cell_type": "markdown",
      "source": [
        "Clearly the trend is extremely irregular so we clearly do not have any repititive behaviour in our data"
      ],
      "metadata": {
        "id": "B83dIK4qb4SW"
      }
    },
    {
      "cell_type": "markdown",
      "source": [
        "## Predicting values from the data"
      ],
      "metadata": {
        "id": "bCsZc8P2ce5I"
      }
    },
    {
      "cell_type": "markdown",
      "source": [
        "Let us start by reading the CSV file where we stored all the accurate data"
      ],
      "metadata": {
        "id": "7A2aZWbJcvcx"
      }
    },
    {
      "cell_type": "code",
      "source": [
        "maindf = pd.read_csv('Corrected_Data.csv', index_col='Date', parse_dates=True)\n",
        "\n",
        "newdf = maindf\n",
        "newdf"
      ],
      "metadata": {
        "colab": {
          "base_uri": "https://localhost:8080/",
          "height": 455
        },
        "id": "3P9td1BiPJCX",
        "outputId": "b3b03769-99d4-4282-9547-ec05feaebe20"
      },
      "execution_count": null,
      "outputs": [
        {
          "output_type": "execute_result",
          "data": {
            "text/plain": [
              "            No_of_calls_from_commercial_card  No_of_calls_from_retail_card  \\\n",
              "Date                                                                         \n",
              "2017-01-01                             264.0                         403.0   \n",
              "2017-01-02                             528.0                         792.0   \n",
              "2017-01-03                            2505.0                        3774.0   \n",
              "2017-01-04                            2145.0                        3236.0   \n",
              "2017-01-05                            2164.0                        3265.0   \n",
              "...                                      ...                           ...   \n",
              "2021-04-26                            1392.0                        2094.0   \n",
              "2021-04-27                            1336.0                        2014.0   \n",
              "2021-04-28                            1220.0                        1831.0   \n",
              "2021-04-29                            1094.0                        1661.0   \n",
              "2021-04-30                            1119.0                        1689.0   \n",
              "\n",
              "            No_of_calls_from_student_card  \n",
              "Date                                       \n",
              "2017-01-01                          860.0  \n",
              "2017-01-02                         1681.0  \n",
              "2017-01-03                         7639.0  \n",
              "2017-01-04                         6513.0  \n",
              "2017-01-05                         6604.0  \n",
              "...                                   ...  \n",
              "2021-04-26                         4278.0  \n",
              "2021-04-27                         4038.0  \n",
              "2021-04-28                         3737.0  \n",
              "2021-04-29                         3391.0  \n",
              "2021-04-30                         3440.0  \n",
              "\n",
              "[1581 rows x 3 columns]"
            ],
            "text/html": [
              "\n",
              "  <div id=\"df-a983e801-2955-44d7-ba18-95e5148ec8a8\">\n",
              "    <div class=\"colab-df-container\">\n",
              "      <div>\n",
              "<style scoped>\n",
              "    .dataframe tbody tr th:only-of-type {\n",
              "        vertical-align: middle;\n",
              "    }\n",
              "\n",
              "    .dataframe tbody tr th {\n",
              "        vertical-align: top;\n",
              "    }\n",
              "\n",
              "    .dataframe thead th {\n",
              "        text-align: right;\n",
              "    }\n",
              "</style>\n",
              "<table border=\"1\" class=\"dataframe\">\n",
              "  <thead>\n",
              "    <tr style=\"text-align: right;\">\n",
              "      <th></th>\n",
              "      <th>No_of_calls_from_commercial_card</th>\n",
              "      <th>No_of_calls_from_retail_card</th>\n",
              "      <th>No_of_calls_from_student_card</th>\n",
              "    </tr>\n",
              "    <tr>\n",
              "      <th>Date</th>\n",
              "      <th></th>\n",
              "      <th></th>\n",
              "      <th></th>\n",
              "    </tr>\n",
              "  </thead>\n",
              "  <tbody>\n",
              "    <tr>\n",
              "      <th>2017-01-01</th>\n",
              "      <td>264.0</td>\n",
              "      <td>403.0</td>\n",
              "      <td>860.0</td>\n",
              "    </tr>\n",
              "    <tr>\n",
              "      <th>2017-01-02</th>\n",
              "      <td>528.0</td>\n",
              "      <td>792.0</td>\n",
              "      <td>1681.0</td>\n",
              "    </tr>\n",
              "    <tr>\n",
              "      <th>2017-01-03</th>\n",
              "      <td>2505.0</td>\n",
              "      <td>3774.0</td>\n",
              "      <td>7639.0</td>\n",
              "    </tr>\n",
              "    <tr>\n",
              "      <th>2017-01-04</th>\n",
              "      <td>2145.0</td>\n",
              "      <td>3236.0</td>\n",
              "      <td>6513.0</td>\n",
              "    </tr>\n",
              "    <tr>\n",
              "      <th>2017-01-05</th>\n",
              "      <td>2164.0</td>\n",
              "      <td>3265.0</td>\n",
              "      <td>6604.0</td>\n",
              "    </tr>\n",
              "    <tr>\n",
              "      <th>...</th>\n",
              "      <td>...</td>\n",
              "      <td>...</td>\n",
              "      <td>...</td>\n",
              "    </tr>\n",
              "    <tr>\n",
              "      <th>2021-04-26</th>\n",
              "      <td>1392.0</td>\n",
              "      <td>2094.0</td>\n",
              "      <td>4278.0</td>\n",
              "    </tr>\n",
              "    <tr>\n",
              "      <th>2021-04-27</th>\n",
              "      <td>1336.0</td>\n",
              "      <td>2014.0</td>\n",
              "      <td>4038.0</td>\n",
              "    </tr>\n",
              "    <tr>\n",
              "      <th>2021-04-28</th>\n",
              "      <td>1220.0</td>\n",
              "      <td>1831.0</td>\n",
              "      <td>3737.0</td>\n",
              "    </tr>\n",
              "    <tr>\n",
              "      <th>2021-04-29</th>\n",
              "      <td>1094.0</td>\n",
              "      <td>1661.0</td>\n",
              "      <td>3391.0</td>\n",
              "    </tr>\n",
              "    <tr>\n",
              "      <th>2021-04-30</th>\n",
              "      <td>1119.0</td>\n",
              "      <td>1689.0</td>\n",
              "      <td>3440.0</td>\n",
              "    </tr>\n",
              "  </tbody>\n",
              "</table>\n",
              "<p>1581 rows × 3 columns</p>\n",
              "</div>\n",
              "      <button class=\"colab-df-convert\" onclick=\"convertToInteractive('df-a983e801-2955-44d7-ba18-95e5148ec8a8')\"\n",
              "              title=\"Convert this dataframe to an interactive table.\"\n",
              "              style=\"display:none;\">\n",
              "        \n",
              "  <svg xmlns=\"http://www.w3.org/2000/svg\" height=\"24px\"viewBox=\"0 0 24 24\"\n",
              "       width=\"24px\">\n",
              "    <path d=\"M0 0h24v24H0V0z\" fill=\"none\"/>\n",
              "    <path d=\"M18.56 5.44l.94 2.06.94-2.06 2.06-.94-2.06-.94-.94-2.06-.94 2.06-2.06.94zm-11 1L8.5 8.5l.94-2.06 2.06-.94-2.06-.94L8.5 2.5l-.94 2.06-2.06.94zm10 10l.94 2.06.94-2.06 2.06-.94-2.06-.94-.94-2.06-.94 2.06-2.06.94z\"/><path d=\"M17.41 7.96l-1.37-1.37c-.4-.4-.92-.59-1.43-.59-.52 0-1.04.2-1.43.59L10.3 9.45l-7.72 7.72c-.78.78-.78 2.05 0 2.83L4 21.41c.39.39.9.59 1.41.59.51 0 1.02-.2 1.41-.59l7.78-7.78 2.81-2.81c.8-.78.8-2.07 0-2.86zM5.41 20L4 18.59l7.72-7.72 1.47 1.35L5.41 20z\"/>\n",
              "  </svg>\n",
              "      </button>\n",
              "      \n",
              "  <style>\n",
              "    .colab-df-container {\n",
              "      display:flex;\n",
              "      flex-wrap:wrap;\n",
              "      gap: 12px;\n",
              "    }\n",
              "\n",
              "    .colab-df-convert {\n",
              "      background-color: #E8F0FE;\n",
              "      border: none;\n",
              "      border-radius: 50%;\n",
              "      cursor: pointer;\n",
              "      display: none;\n",
              "      fill: #1967D2;\n",
              "      height: 32px;\n",
              "      padding: 0 0 0 0;\n",
              "      width: 32px;\n",
              "    }\n",
              "\n",
              "    .colab-df-convert:hover {\n",
              "      background-color: #E2EBFA;\n",
              "      box-shadow: 0px 1px 2px rgba(60, 64, 67, 0.3), 0px 1px 3px 1px rgba(60, 64, 67, 0.15);\n",
              "      fill: #174EA6;\n",
              "    }\n",
              "\n",
              "    [theme=dark] .colab-df-convert {\n",
              "      background-color: #3B4455;\n",
              "      fill: #D2E3FC;\n",
              "    }\n",
              "\n",
              "    [theme=dark] .colab-df-convert:hover {\n",
              "      background-color: #434B5C;\n",
              "      box-shadow: 0px 1px 3px 1px rgba(0, 0, 0, 0.15);\n",
              "      filter: drop-shadow(0px 1px 2px rgba(0, 0, 0, 0.3));\n",
              "      fill: #FFFFFF;\n",
              "    }\n",
              "  </style>\n",
              "\n",
              "      <script>\n",
              "        const buttonEl =\n",
              "          document.querySelector('#df-a983e801-2955-44d7-ba18-95e5148ec8a8 button.colab-df-convert');\n",
              "        buttonEl.style.display =\n",
              "          google.colab.kernel.accessAllowed ? 'block' : 'none';\n",
              "\n",
              "        async function convertToInteractive(key) {\n",
              "          const element = document.querySelector('#df-a983e801-2955-44d7-ba18-95e5148ec8a8');\n",
              "          const dataTable =\n",
              "            await google.colab.kernel.invokeFunction('convertToInteractive',\n",
              "                                                     [key], {});\n",
              "          if (!dataTable) return;\n",
              "\n",
              "          const docLinkHtml = 'Like what you see? Visit the ' +\n",
              "            '<a target=\"_blank\" href=https://colab.research.google.com/notebooks/data_table.ipynb>data table notebook</a>'\n",
              "            + ' to learn more about interactive tables.';\n",
              "          element.innerHTML = '';\n",
              "          dataTable['output_type'] = 'display_data';\n",
              "          await google.colab.output.renderOutput(dataTable, element);\n",
              "          const docLink = document.createElement('div');\n",
              "          docLink.innerHTML = docLinkHtml;\n",
              "          element.appendChild(docLink);\n",
              "        }\n",
              "      </script>\n",
              "    </div>\n",
              "  </div>\n",
              "  "
            ]
          },
          "metadata": {},
          "execution_count": 12
        }
      ]
    },
    {
      "cell_type": "markdown",
      "source": [
        "From the graph of trend of number of calls vs the date, one more thing that we can notice is that the number of calls drop drastically on the weekends, as compared to the weekdays. So let us number the days of the week according to the total number of calls that come in throughout the duration"
      ],
      "metadata": {
        "id": "8N0N2I9UdBsa"
      }
    },
    {
      "cell_type": "code",
      "source": [
        "days = [(i%7) for i in range(1581)]\n",
        "\n",
        "newdf['Commercial_Days'] = days\n",
        "newdf['Retail_Days'] = days\n",
        "newdf['Student_Days'] = days\n",
        "\n",
        "list_days_com = [0,0,0,0,0,0,0]\n",
        "list_days_ret = [0,0,0,0,0,0,0]\n",
        "list_days_stu = [0,0,0,0,0,0,0]\n",
        "\n",
        "for i in newdf.index:\n",
        "    list_days_com[newdf['Commercial_Days'][i]]+=newdf['No_of_calls_from_commercial_card'][i]\n",
        "    list_days_ret[newdf['Retail_Days'][i]]+=newdf['No_of_calls_from_retail_card'][i]\n",
        "    list_days_stu[newdf['Student_Days'][i]]+=newdf['No_of_calls_from_student_card'][i]\n",
        "\n",
        "count=0\n",
        "for i in newdf.index:\n",
        "    newdf['Commercial_Days'][i]=list_days_com[count%7]\n",
        "    newdf['Retail_Days'][i]=list_days_ret[count%7]\n",
        "    newdf['Student_Days'][i]=list_days_stu[count%7]\n",
        "    count+=1"
      ],
      "metadata": {
        "colab": {
          "base_uri": "https://localhost:8080/"
        },
        "id": "B52zIDk1c-dn",
        "outputId": "ab40c5be-a095-4f98-c859-6fdf51193db3"
      },
      "execution_count": null,
      "outputs": [
        {
          "output_type": "stream",
          "name": "stderr",
          "text": [
            "<ipython-input-13-ddb33c32b225>:18: SettingWithCopyWarning: \n",
            "A value is trying to be set on a copy of a slice from a DataFrame\n",
            "\n",
            "See the caveats in the documentation: https://pandas.pydata.org/pandas-docs/stable/user_guide/indexing.html#returning-a-view-versus-a-copy\n",
            "  newdf['Commercial_Days'][i]=list_days_com[count%7]\n",
            "<ipython-input-13-ddb33c32b225>:19: SettingWithCopyWarning: \n",
            "A value is trying to be set on a copy of a slice from a DataFrame\n",
            "\n",
            "See the caveats in the documentation: https://pandas.pydata.org/pandas-docs/stable/user_guide/indexing.html#returning-a-view-versus-a-copy\n",
            "  newdf['Retail_Days'][i]=list_days_ret[count%7]\n",
            "<ipython-input-13-ddb33c32b225>:20: SettingWithCopyWarning: \n",
            "A value is trying to be set on a copy of a slice from a DataFrame\n",
            "\n",
            "See the caveats in the documentation: https://pandas.pydata.org/pandas-docs/stable/user_guide/indexing.html#returning-a-view-versus-a-copy\n",
            "  newdf['Student_Days'][i]=list_days_stu[count%7]\n"
          ]
        }
      ]
    },
    {
      "cell_type": "code",
      "source": [
        "newdf[:8]"
      ],
      "metadata": {
        "colab": {
          "base_uri": "https://localhost:8080/",
          "height": 534
        },
        "id": "47QdUdIsdru2",
        "outputId": "4ba1bd13-65fc-4d0f-be7b-f485d3e18deb"
      },
      "execution_count": null,
      "outputs": [
        {
          "output_type": "execute_result",
          "data": {
            "text/plain": [
              "            No_of_calls_from_commercial_card  No_of_calls_from_retail_card  \\\n",
              "Date                                                                         \n",
              "2017-01-01                             264.0                         403.0   \n",
              "2017-01-02                             528.0                         792.0   \n",
              "2017-01-03                            2505.0                        3774.0   \n",
              "2017-01-04                            2145.0                        3236.0   \n",
              "2017-01-05                            2164.0                        3265.0   \n",
              "2017-01-06                            1787.0                        2697.0   \n",
              "2017-01-07                             464.0                         715.0   \n",
              "2017-01-08                             505.0                         758.0   \n",
              "\n",
              "            No_of_calls_from_student_card  Commercial_Days  Retail_Days  \\\n",
              "Date                                                                      \n",
              "2017-01-01                          860.0            88531       135072   \n",
              "2017-01-02                         1681.0           425170       639968   \n",
              "2017-01-03                         7639.0           424392       638766   \n",
              "2017-01-04                         6513.0           405112       609860   \n",
              "2017-01-05                         6604.0           391126       589052   \n",
              "2017-01-06                         5482.0           355613       535701   \n",
              "2017-01-07                         1449.0            96966       147517   \n",
              "2017-01-08                         1574.0            88531       135072   \n",
              "\n",
              "            Student_Days  \n",
              "Date                      \n",
              "2017-01-01        281640  \n",
              "2017-01-02       1291397  \n",
              "2017-01-03       1287875  \n",
              "2017-01-04       1231015  \n",
              "2017-01-05       1189596  \n",
              "2017-01-06       1082564  \n",
              "2017-01-07        306137  \n",
              "2017-01-08        281640  "
            ],
            "text/html": [
              "\n",
              "  <div id=\"df-8b2f0389-9a5e-4249-ac9c-893752235866\">\n",
              "    <div class=\"colab-df-container\">\n",
              "      <div>\n",
              "<style scoped>\n",
              "    .dataframe tbody tr th:only-of-type {\n",
              "        vertical-align: middle;\n",
              "    }\n",
              "\n",
              "    .dataframe tbody tr th {\n",
              "        vertical-align: top;\n",
              "    }\n",
              "\n",
              "    .dataframe thead th {\n",
              "        text-align: right;\n",
              "    }\n",
              "</style>\n",
              "<table border=\"1\" class=\"dataframe\">\n",
              "  <thead>\n",
              "    <tr style=\"text-align: right;\">\n",
              "      <th></th>\n",
              "      <th>No_of_calls_from_commercial_card</th>\n",
              "      <th>No_of_calls_from_retail_card</th>\n",
              "      <th>No_of_calls_from_student_card</th>\n",
              "      <th>Commercial_Days</th>\n",
              "      <th>Retail_Days</th>\n",
              "      <th>Student_Days</th>\n",
              "    </tr>\n",
              "    <tr>\n",
              "      <th>Date</th>\n",
              "      <th></th>\n",
              "      <th></th>\n",
              "      <th></th>\n",
              "      <th></th>\n",
              "      <th></th>\n",
              "      <th></th>\n",
              "    </tr>\n",
              "  </thead>\n",
              "  <tbody>\n",
              "    <tr>\n",
              "      <th>2017-01-01</th>\n",
              "      <td>264.0</td>\n",
              "      <td>403.0</td>\n",
              "      <td>860.0</td>\n",
              "      <td>88531</td>\n",
              "      <td>135072</td>\n",
              "      <td>281640</td>\n",
              "    </tr>\n",
              "    <tr>\n",
              "      <th>2017-01-02</th>\n",
              "      <td>528.0</td>\n",
              "      <td>792.0</td>\n",
              "      <td>1681.0</td>\n",
              "      <td>425170</td>\n",
              "      <td>639968</td>\n",
              "      <td>1291397</td>\n",
              "    </tr>\n",
              "    <tr>\n",
              "      <th>2017-01-03</th>\n",
              "      <td>2505.0</td>\n",
              "      <td>3774.0</td>\n",
              "      <td>7639.0</td>\n",
              "      <td>424392</td>\n",
              "      <td>638766</td>\n",
              "      <td>1287875</td>\n",
              "    </tr>\n",
              "    <tr>\n",
              "      <th>2017-01-04</th>\n",
              "      <td>2145.0</td>\n",
              "      <td>3236.0</td>\n",
              "      <td>6513.0</td>\n",
              "      <td>405112</td>\n",
              "      <td>609860</td>\n",
              "      <td>1231015</td>\n",
              "    </tr>\n",
              "    <tr>\n",
              "      <th>2017-01-05</th>\n",
              "      <td>2164.0</td>\n",
              "      <td>3265.0</td>\n",
              "      <td>6604.0</td>\n",
              "      <td>391126</td>\n",
              "      <td>589052</td>\n",
              "      <td>1189596</td>\n",
              "    </tr>\n",
              "    <tr>\n",
              "      <th>2017-01-06</th>\n",
              "      <td>1787.0</td>\n",
              "      <td>2697.0</td>\n",
              "      <td>5482.0</td>\n",
              "      <td>355613</td>\n",
              "      <td>535701</td>\n",
              "      <td>1082564</td>\n",
              "    </tr>\n",
              "    <tr>\n",
              "      <th>2017-01-07</th>\n",
              "      <td>464.0</td>\n",
              "      <td>715.0</td>\n",
              "      <td>1449.0</td>\n",
              "      <td>96966</td>\n",
              "      <td>147517</td>\n",
              "      <td>306137</td>\n",
              "    </tr>\n",
              "    <tr>\n",
              "      <th>2017-01-08</th>\n",
              "      <td>505.0</td>\n",
              "      <td>758.0</td>\n",
              "      <td>1574.0</td>\n",
              "      <td>88531</td>\n",
              "      <td>135072</td>\n",
              "      <td>281640</td>\n",
              "    </tr>\n",
              "  </tbody>\n",
              "</table>\n",
              "</div>\n",
              "      <button class=\"colab-df-convert\" onclick=\"convertToInteractive('df-8b2f0389-9a5e-4249-ac9c-893752235866')\"\n",
              "              title=\"Convert this dataframe to an interactive table.\"\n",
              "              style=\"display:none;\">\n",
              "        \n",
              "  <svg xmlns=\"http://www.w3.org/2000/svg\" height=\"24px\"viewBox=\"0 0 24 24\"\n",
              "       width=\"24px\">\n",
              "    <path d=\"M0 0h24v24H0V0z\" fill=\"none\"/>\n",
              "    <path d=\"M18.56 5.44l.94 2.06.94-2.06 2.06-.94-2.06-.94-.94-2.06-.94 2.06-2.06.94zm-11 1L8.5 8.5l.94-2.06 2.06-.94-2.06-.94L8.5 2.5l-.94 2.06-2.06.94zm10 10l.94 2.06.94-2.06 2.06-.94-2.06-.94-.94-2.06-.94 2.06-2.06.94z\"/><path d=\"M17.41 7.96l-1.37-1.37c-.4-.4-.92-.59-1.43-.59-.52 0-1.04.2-1.43.59L10.3 9.45l-7.72 7.72c-.78.78-.78 2.05 0 2.83L4 21.41c.39.39.9.59 1.41.59.51 0 1.02-.2 1.41-.59l7.78-7.78 2.81-2.81c.8-.78.8-2.07 0-2.86zM5.41 20L4 18.59l7.72-7.72 1.47 1.35L5.41 20z\"/>\n",
              "  </svg>\n",
              "      </button>\n",
              "      \n",
              "  <style>\n",
              "    .colab-df-container {\n",
              "      display:flex;\n",
              "      flex-wrap:wrap;\n",
              "      gap: 12px;\n",
              "    }\n",
              "\n",
              "    .colab-df-convert {\n",
              "      background-color: #E8F0FE;\n",
              "      border: none;\n",
              "      border-radius: 50%;\n",
              "      cursor: pointer;\n",
              "      display: none;\n",
              "      fill: #1967D2;\n",
              "      height: 32px;\n",
              "      padding: 0 0 0 0;\n",
              "      width: 32px;\n",
              "    }\n",
              "\n",
              "    .colab-df-convert:hover {\n",
              "      background-color: #E2EBFA;\n",
              "      box-shadow: 0px 1px 2px rgba(60, 64, 67, 0.3), 0px 1px 3px 1px rgba(60, 64, 67, 0.15);\n",
              "      fill: #174EA6;\n",
              "    }\n",
              "\n",
              "    [theme=dark] .colab-df-convert {\n",
              "      background-color: #3B4455;\n",
              "      fill: #D2E3FC;\n",
              "    }\n",
              "\n",
              "    [theme=dark] .colab-df-convert:hover {\n",
              "      background-color: #434B5C;\n",
              "      box-shadow: 0px 1px 3px 1px rgba(0, 0, 0, 0.15);\n",
              "      filter: drop-shadow(0px 1px 2px rgba(0, 0, 0, 0.3));\n",
              "      fill: #FFFFFF;\n",
              "    }\n",
              "  </style>\n",
              "\n",
              "      <script>\n",
              "        const buttonEl =\n",
              "          document.querySelector('#df-8b2f0389-9a5e-4249-ac9c-893752235866 button.colab-df-convert');\n",
              "        buttonEl.style.display =\n",
              "          google.colab.kernel.accessAllowed ? 'block' : 'none';\n",
              "\n",
              "        async function convertToInteractive(key) {\n",
              "          const element = document.querySelector('#df-8b2f0389-9a5e-4249-ac9c-893752235866');\n",
              "          const dataTable =\n",
              "            await google.colab.kernel.invokeFunction('convertToInteractive',\n",
              "                                                     [key], {});\n",
              "          if (!dataTable) return;\n",
              "\n",
              "          const docLinkHtml = 'Like what you see? Visit the ' +\n",
              "            '<a target=\"_blank\" href=https://colab.research.google.com/notebooks/data_table.ipynb>data table notebook</a>'\n",
              "            + ' to learn more about interactive tables.';\n",
              "          element.innerHTML = '';\n",
              "          dataTable['output_type'] = 'display_data';\n",
              "          await google.colab.output.renderOutput(dataTable, element);\n",
              "          const docLink = document.createElement('div');\n",
              "          docLink.innerHTML = docLinkHtml;\n",
              "          element.appendChild(docLink);\n",
              "        }\n",
              "      </script>\n",
              "    </div>\n",
              "  </div>\n",
              "  "
            ]
          },
          "metadata": {},
          "execution_count": 14
        }
      ]
    },
    {
      "cell_type": "markdown",
      "source": [
        "We have now marked every day of the week according to the total number of calls on that specific weekday, throughout the year"
      ],
      "metadata": {
        "id": "koMHL3F_dwlU"
      }
    },
    {
      "cell_type": "markdown",
      "source": [
        "Let us now create the training set and the test set\n",
        "\n",
        "Note that due to the reducing range of values as noticed from the graph above, the test set is small compared to the training set"
      ],
      "metadata": {
        "id": "KdVQx8QpeOjI"
      }
    },
    {
      "cell_type": "code",
      "source": [
        "train = newdf[:1500]\n",
        "test = newdf[1500:]\n",
        "full = newdf"
      ],
      "metadata": {
        "id": "0QDozg9tdv0i"
      },
      "execution_count": null,
      "outputs": []
    },
    {
      "cell_type": "markdown",
      "source": [
        "Let us now scale down the values to help the model train data easily"
      ],
      "metadata": {
        "id": "pUUxTkkoef6g"
      }
    },
    {
      "cell_type": "code",
      "source": [
        "scaler = MinMaxScaler()\n",
        "\n",
        "scaler.fit(train)\n",
        "scaled_train = scaler.transform(train)\n",
        "\n",
        "scaler.fit(test)\n",
        "scaled_test = scaler.transform(test)\n",
        "\n",
        "scaler.fit(full)\n",
        "scaled_full = scaler.transform(full)"
      ],
      "metadata": {
        "id": "sBC8yfXIdu3k"
      },
      "execution_count": null,
      "outputs": []
    },
    {
      "cell_type": "markdown",
      "source": [
        "We now need to select the number of inputs (window size). After experimenting with different values, 7 seems like an optimal window size as it is large enough to contain all the days of the week and can hence train the sudden drop on the weekends. A larger window size might not result in such accurate predictions"
      ],
      "metadata": {
        "id": "GSDF95K0evsx"
      }
    },
    {
      "cell_type": "markdown",
      "source": [
        "The time series generator hels us create out training examples"
      ],
      "metadata": {
        "id": "jwMyjAF4fKN0"
      }
    },
    {
      "cell_type": "code",
      "source": [
        "n_input = 7\n",
        "n_features = 6\n",
        "\n",
        "generator = TimeseriesGenerator(scaled_train, scaled_train, length=n_input, batch_size=1)\n",
        "X,y  = generator[0]\n",
        "X.shape"
      ],
      "metadata": {
        "colab": {
          "base_uri": "https://localhost:8080/"
        },
        "id": "wA_wVYvkeoAO",
        "outputId": "f3e2d366-aca2-4b8f-97ca-e56844b4835f"
      },
      "execution_count": null,
      "outputs": [
        {
          "output_type": "execute_result",
          "data": {
            "text/plain": [
              "(1, 7, 6)"
            ]
          },
          "metadata": {},
          "execution_count": 17
        }
      ]
    },
    {
      "cell_type": "markdown",
      "source": [
        "Let us now build the model. Having experimented with various layers and number of neurons, this model seems to be a good fit for the data. I have trained it using the Adam Optimiser and the Mean_Squared_Error loss function"
      ],
      "metadata": {
        "id": "JlNQvq1CflLM"
      }
    },
    {
      "cell_type": "code",
      "source": [
        "model = Sequential()\n",
        "model.add(LSTM(64, activation=\"relu\", input_shape = (n_input,n_features), return_sequences = True))\n",
        "model.add(LSTM(32, activation=\"relu\", return_sequences = False))\n",
        "model.add(Dropout(0.2))\n",
        "model.add(Dense(6))\n",
        "model.compile(optimizer=\"Adam\", loss=\"mse\")"
      ],
      "metadata": {
        "id": "OX_B9M06fIDX"
      },
      "execution_count": null,
      "outputs": []
    },
    {
      "cell_type": "markdown",
      "source": [
        "Let us now train the model for 50 epochs as the values seem to converge after roughly 30-40 epochs"
      ],
      "metadata": {
        "id": "3BIQFOhugHeV"
      }
    },
    {
      "cell_type": "code",
      "source": [
        "model.fit(generator, epochs = 50)"
      ],
      "metadata": {
        "colab": {
          "base_uri": "https://localhost:8080/"
        },
        "id": "gd8rUFN5gE6i",
        "outputId": "d5a4fe0b-071a-41e3-a071-f41a41d6bf6d"
      },
      "execution_count": null,
      "outputs": [
        {
          "output_type": "stream",
          "name": "stdout",
          "text": [
            "Epoch 1/50\n",
            "1493/1493 [==============================] - 19s 9ms/step - loss: 0.0461\n",
            "Epoch 2/50\n",
            "1493/1493 [==============================] - 14s 9ms/step - loss: 0.0148\n",
            "Epoch 3/50\n",
            "1493/1493 [==============================] - 13s 9ms/step - loss: 0.0115\n",
            "Epoch 4/50\n",
            "1493/1493 [==============================] - 14s 9ms/step - loss: 0.0104\n",
            "Epoch 5/50\n",
            "1493/1493 [==============================] - 14s 9ms/step - loss: 0.0092\n",
            "Epoch 6/50\n",
            "1493/1493 [==============================] - 14s 9ms/step - loss: 0.0087\n",
            "Epoch 7/50\n",
            "1493/1493 [==============================] - 14s 9ms/step - loss: 0.0084\n",
            "Epoch 8/50\n",
            "1493/1493 [==============================] - 14s 9ms/step - loss: 0.0083\n",
            "Epoch 9/50\n",
            "1493/1493 [==============================] - 14s 9ms/step - loss: 0.0081\n",
            "Epoch 10/50\n",
            "1493/1493 [==============================] - 14s 9ms/step - loss: 0.0077\n",
            "Epoch 11/50\n",
            "1493/1493 [==============================] - 15s 10ms/step - loss: 0.0078\n",
            "Epoch 12/50\n",
            "1493/1493 [==============================] - 14s 9ms/step - loss: 0.0079\n",
            "Epoch 13/50\n",
            "1493/1493 [==============================] - 14s 9ms/step - loss: 0.0078\n",
            "Epoch 14/50\n",
            "1493/1493 [==============================] - 14s 9ms/step - loss: 0.0075\n",
            "Epoch 15/50\n",
            "1493/1493 [==============================] - 14s 9ms/step - loss: 0.0074\n",
            "Epoch 16/50\n",
            "1493/1493 [==============================] - 14s 9ms/step - loss: 0.0074\n",
            "Epoch 17/50\n",
            "1493/1493 [==============================] - 14s 10ms/step - loss: 0.0076\n",
            "Epoch 18/50\n",
            "1493/1493 [==============================] - 15s 10ms/step - loss: 0.0077\n",
            "Epoch 19/50\n",
            "1493/1493 [==============================] - 15s 10ms/step - loss: 0.0071\n",
            "Epoch 20/50\n",
            "1493/1493 [==============================] - 13s 9ms/step - loss: 0.0072\n",
            "Epoch 21/50\n",
            "1493/1493 [==============================] - 14s 9ms/step - loss: 0.0073\n",
            "Epoch 22/50\n",
            "1493/1493 [==============================] - 14s 9ms/step - loss: 0.0067\n",
            "Epoch 23/50\n",
            "1493/1493 [==============================] - 13s 9ms/step - loss: 0.0070\n",
            "Epoch 24/50\n",
            "1493/1493 [==============================] - 14s 9ms/step - loss: 0.0069\n",
            "Epoch 25/50\n",
            "1493/1493 [==============================] - 14s 9ms/step - loss: 0.0069\n",
            "Epoch 26/50\n",
            "1493/1493 [==============================] - 13s 9ms/step - loss: 0.0070\n",
            "Epoch 27/50\n",
            "1493/1493 [==============================] - 14s 9ms/step - loss: 0.0070\n",
            "Epoch 28/50\n",
            "1493/1493 [==============================] - 14s 9ms/step - loss: 0.0068\n",
            "Epoch 29/50\n",
            "1493/1493 [==============================] - 13s 9ms/step - loss: 0.0067\n",
            "Epoch 30/50\n",
            "1493/1493 [==============================] - 14s 9ms/step - loss: 0.0069\n",
            "Epoch 31/50\n",
            "1493/1493 [==============================] - 13s 9ms/step - loss: 0.0069\n",
            "Epoch 32/50\n",
            "1493/1493 [==============================] - 14s 9ms/step - loss: 0.0065\n",
            "Epoch 33/50\n",
            "1493/1493 [==============================] - 14s 9ms/step - loss: 0.0068\n",
            "Epoch 34/50\n",
            "1493/1493 [==============================] - 14s 9ms/step - loss: 0.0068\n",
            "Epoch 35/50\n",
            "1493/1493 [==============================] - 14s 9ms/step - loss: 0.0068\n",
            "Epoch 36/50\n",
            "1493/1493 [==============================] - 14s 9ms/step - loss: 0.0066\n",
            "Epoch 37/50\n",
            "1493/1493 [==============================] - 14s 9ms/step - loss: 0.0067\n",
            "Epoch 38/50\n",
            "1493/1493 [==============================] - 14s 9ms/step - loss: 0.0065\n",
            "Epoch 39/50\n",
            "1493/1493 [==============================] - 14s 9ms/step - loss: 0.0064\n",
            "Epoch 40/50\n",
            "1493/1493 [==============================] - 13s 9ms/step - loss: 0.0062\n",
            "Epoch 41/50\n",
            "1493/1493 [==============================] - 13s 9ms/step - loss: 0.0062\n",
            "Epoch 42/50\n",
            "1493/1493 [==============================] - 14s 9ms/step - loss: 0.0062\n",
            "Epoch 43/50\n",
            "1493/1493 [==============================] - 14s 9ms/step - loss: 0.0062\n",
            "Epoch 44/50\n",
            "1493/1493 [==============================] - 14s 9ms/step - loss: 0.0065\n",
            "Epoch 45/50\n",
            "1493/1493 [==============================] - 14s 9ms/step - loss: 0.0065\n",
            "Epoch 46/50\n",
            "1493/1493 [==============================] - 14s 9ms/step - loss: 0.0062\n",
            "Epoch 47/50\n",
            "1493/1493 [==============================] - 13s 9ms/step - loss: 0.0063\n",
            "Epoch 48/50\n",
            "1493/1493 [==============================] - 14s 9ms/step - loss: 0.0061\n",
            "Epoch 49/50\n",
            "1493/1493 [==============================] - 14s 9ms/step - loss: 0.0060\n",
            "Epoch 50/50\n",
            "1493/1493 [==============================] - 14s 10ms/step - loss: 0.0061\n"
          ]
        },
        {
          "output_type": "execute_result",
          "data": {
            "text/plain": [
              "<keras.callbacks.History at 0x7f20c78a5780>"
            ]
          },
          "metadata": {},
          "execution_count": 19
        }
      ]
    },
    {
      "cell_type": "markdown",
      "source": [
        "To see how well the model has been trained, let us plot the loss per epoch"
      ],
      "metadata": {
        "id": "jsPkJdpJgUx9"
      }
    },
    {
      "cell_type": "code",
      "source": [
        "loss_per_epoch = model.history.history[\"loss\"]\n",
        "x = [(i+1) for i in range (50)]\n",
        "plt.plot(x,loss_per_epoch)"
      ],
      "metadata": {
        "colab": {
          "base_uri": "https://localhost:8080/",
          "height": 447
        },
        "id": "reN92MzcgOdm",
        "outputId": "b9a799e8-ea4e-499a-d78b-628bab1ed302"
      },
      "execution_count": null,
      "outputs": [
        {
          "output_type": "execute_result",
          "data": {
            "text/plain": [
              "[<matplotlib.lines.Line2D at 0x7f20c1378790>]"
            ]
          },
          "metadata": {},
          "execution_count": 20
        },
        {
          "output_type": "display_data",
          "data": {
            "text/plain": [
              "<Figure size 640x480 with 1 Axes>"
            ],
            "image/png": "[encoded data removed]"
          },
          "metadata": {}
        }
      ]
    },
    {
      "cell_type": "markdown",
      "source": [
        "The values seem to converge after some time, so 50 epochs is enough"
      ],
      "metadata": {
        "id": "mCsKb1hhgiRr"
      }
    },
    {
      "cell_type": "markdown",
      "source": [
        "Let us now make predicitions for the next set of values to compare it with the training set"
      ],
      "metadata": {
        "id": "i3du2nN-hfWb"
      }
    },
    {
      "cell_type": "code",
      "source": [
        "test_predictions = []\n",
        "\n",
        "first_eval_batch = scaled_train[-n_input:]\n",
        "current_batch = first_eval_batch.reshape((1, n_input, n_features))\n",
        "\n",
        "for i in range(len(scaled_test)):\n",
        "\n",
        "    # get the prediction value for the first batch\n",
        "    current_pred = model.predict(current_batch)[0]\n",
        "\n",
        "    # append the prediction into the array\n",
        "    test_predictions.append(current_pred)\n",
        "\n",
        "    # use the prediction to update the batch and remove the first value\n",
        "    current_batch = np.append(current_batch[:,1:,:],[[scaled_test[i]]],axis=1)\n",
        "    # current_batch = np.append(current_batch[:,1:,:],[[current_pred]],axis=1)"
      ],
      "metadata": {
        "colab": {
          "base_uri": "https://localhost:8080/"
        },
        "id": "OzX4Fct0hiYw",
        "outputId": "1f3f4b93-0f4a-4e11-f526-9421598af495"
      },
      "execution_count": null,
      "outputs": [
        {
          "output_type": "stream",
          "name": "stdout",
          "text": [
            "1/1 [==============================] - 0s 336ms/step\n",
            "1/1 [==============================] - 0s 25ms/step\n",
            "1/1 [==============================] - 0s 23ms/step\n",
            "1/1 [==============================] - 0s 26ms/step\n",
            "1/1 [==============================] - 0s 23ms/step\n",
            "1/1 [==============================] - 0s 30ms/step\n",
            "1/1 [==============================] - 0s 21ms/step\n",
            "1/1 [==============================] - 0s 23ms/step\n",
            "1/1 [==============================] - 0s 41ms/step\n",
            "1/1 [==============================] - 0s 26ms/step\n",
            "1/1 [==============================] - 0s 25ms/step\n",
            "1/1 [==============================] - 0s 22ms/step\n",
            "1/1 [==============================] - 0s 32ms/step\n",
            "1/1 [==============================] - 0s 25ms/step\n",
            "1/1 [==============================] - 0s 23ms/step\n",
            "1/1 [==============================] - 0s 23ms/step\n",
            "1/1 [==============================] - 0s 27ms/step\n",
            "1/1 [==============================] - 0s 24ms/step\n",
            "1/1 [==============================] - 0s 26ms/step\n",
            "1/1 [==============================] - 0s 25ms/step\n",
            "1/1 [==============================] - 0s 24ms/step\n",
            "1/1 [==============================] - 0s 22ms/step\n",
            "1/1 [==============================] - 0s 22ms/step\n",
            "1/1 [==============================] - 0s 24ms/step\n",
            "1/1 [==============================] - 0s 24ms/step\n",
            "1/1 [==============================] - 0s 27ms/step\n",
            "1/1 [==============================] - 0s 24ms/step\n",
            "1/1 [==============================] - 0s 23ms/step\n",
            "1/1 [==============================] - 0s 27ms/step\n",
            "1/1 [==============================] - 0s 24ms/step\n",
            "1/1 [==============================] - 0s 22ms/step\n",
            "1/1 [==============================] - 0s 22ms/step\n",
            "1/1 [==============================] - 0s 22ms/step\n",
            "1/1 [==============================] - 0s 30ms/step\n",
            "1/1 [==============================] - 0s 27ms/step\n",
            "1/1 [==============================] - 0s 23ms/step\n",
            "1/1 [==============================] - 0s 24ms/step\n",
            "1/1 [==============================] - 0s 22ms/step\n",
            "1/1 [==============================] - 0s 23ms/step\n",
            "1/1 [==============================] - 0s 28ms/step\n",
            "1/1 [==============================] - 0s 23ms/step\n",
            "1/1 [==============================] - 0s 23ms/step\n",
            "1/1 [==============================] - 0s 25ms/step\n",
            "1/1 [==============================] - 0s 23ms/step\n",
            "1/1 [==============================] - 0s 23ms/step\n",
            "1/1 [==============================] - 0s 24ms/step\n",
            "1/1 [==============================] - 0s 21ms/step\n",
            "1/1 [==============================] - 0s 31ms/step\n",
            "1/1 [==============================] - 0s 23ms/step\n",
            "1/1 [==============================] - 0s 23ms/step\n",
            "1/1 [==============================] - 0s 23ms/step\n",
            "1/1 [==============================] - 0s 26ms/step\n",
            "1/1 [==============================] - 0s 23ms/step\n",
            "1/1 [==============================] - 0s 24ms/step\n",
            "1/1 [==============================] - 0s 23ms/step\n",
            "1/1 [==============================] - 0s 24ms/step\n",
            "1/1 [==============================] - 0s 24ms/step\n",
            "1/1 [==============================] - 0s 24ms/step\n",
            "1/1 [==============================] - 0s 25ms/step\n",
            "1/1 [==============================] - 0s 24ms/step\n",
            "1/1 [==============================] - 0s 28ms/step\n",
            "1/1 [==============================] - 0s 33ms/step\n",
            "1/1 [==============================] - 0s 25ms/step\n",
            "1/1 [==============================] - 0s 25ms/step\n",
            "1/1 [==============================] - 0s 26ms/step\n",
            "1/1 [==============================] - 0s 23ms/step\n",
            "1/1 [==============================] - 0s 24ms/step\n",
            "1/1 [==============================] - 0s 25ms/step\n",
            "1/1 [==============================] - 0s 28ms/step\n",
            "1/1 [==============================] - 0s 25ms/step\n",
            "1/1 [==============================] - 0s 27ms/step\n",
            "1/1 [==============================] - 0s 23ms/step\n",
            "1/1 [==============================] - 0s 23ms/step\n",
            "1/1 [==============================] - 0s 25ms/step\n",
            "1/1 [==============================] - 0s 23ms/step\n",
            "1/1 [==============================] - 0s 32ms/step\n",
            "1/1 [==============================] - 0s 25ms/step\n",
            "1/1 [==============================] - 0s 25ms/step\n",
            "1/1 [==============================] - 0s 24ms/step\n",
            "1/1 [==============================] - 0s 24ms/step\n",
            "1/1 [==============================] - 0s 27ms/step\n"
          ]
        }
      ]
    },
    {
      "cell_type": "markdown",
      "source": [
        "Since the values have been scaled down, wemust first get back our original values before we can calculate the score"
      ],
      "metadata": {
        "id": "N7tSLfS6hoV8"
      }
    },
    {
      "cell_type": "code",
      "source": [
        "true_predictions = scaler.inverse_transform(test_predictions)\n",
        "y_test = scaler.inverse_transform(scaled_test)\n",
        "\n",
        "score = mean_absolute_percentage_error(y_test, true_predictions)\n",
        "score"
      ],
      "metadata": {
        "colab": {
          "base_uri": "https://localhost:8080/"
        },
        "id": "_FcMurZOhyQf",
        "outputId": "df02c15d-e144-4dfa-9042-63c9089d2629"
      },
      "execution_count": null,
      "outputs": [
        {
          "output_type": "execute_result",
          "data": {
            "text/plain": [
              "0.23379794866029888"
            ]
          },
          "metadata": {},
          "execution_count": 22
        }
      ]
    },
    {
      "cell_type": "markdown",
      "source": [
        "Although the MAPE score is relatively high, it can be explained by the drop in values as we get to the later stages"
      ],
      "metadata": {
        "id": "m4Z4qXeLh1cm"
      }
    },
    {
      "cell_type": "markdown",
      "source": [
        "Let us now predict the values to fill the initial CSV file (until 7/31/2021)"
      ],
      "metadata": {
        "id": "dglC1DSoiW0E"
      }
    },
    {
      "cell_type": "code",
      "source": [
        "#short term forecast\n",
        "predictions = []\n",
        "\n",
        "first_eval_batch = scaled_full[-n_input:]\n",
        "current_batch = first_eval_batch.reshape((1, n_input, n_features))\n",
        "\n",
        "for i in range(92):\n",
        "\n",
        "    # get the prediction value for the first batch\n",
        "    current_pred = model.predict(current_batch)[0]\n",
        "\n",
        "    # append the prediction into the array\n",
        "    predictions.append(current_pred)\n",
        "\n",
        "    # use the prediction to update the batch and remove the first value\n",
        "    current_batch = np.append(current_batch[:,1:,:],[[current_pred]],axis=1)"
      ],
      "metadata": {
        "colab": {
          "base_uri": "https://localhost:8080/"
        },
        "id": "rI6P0K-1iKTQ",
        "outputId": "ba21b25a-4fca-41c0-b99c-75f56b6b1f5c"
      },
      "execution_count": null,
      "outputs": [
        {
          "output_type": "stream",
          "name": "stdout",
          "text": [
            "1/1 [==============================] - 0s 24ms/step\n",
            "1/1 [==============================] - 0s 27ms/step\n",
            "1/1 [==============================] - 0s 24ms/step\n",
            "1/1 [==============================] - 0s 23ms/step\n",
            "1/1 [==============================] - 0s 22ms/step\n",
            "1/1 [==============================] - 0s 24ms/step\n",
            "1/1 [==============================] - 0s 26ms/step\n",
            "1/1 [==============================] - 0s 30ms/step\n",
            "1/1 [==============================] - 0s 36ms/step\n",
            "1/1 [==============================] - 0s 27ms/step\n",
            "1/1 [==============================] - 0s 28ms/step\n",
            "1/1 [==============================] - 0s 23ms/step\n",
            "1/1 [==============================] - 0s 23ms/step\n",
            "1/1 [==============================] - 0s 23ms/step\n",
            "1/1 [==============================] - 0s 25ms/step\n",
            "1/1 [==============================] - 0s 25ms/step\n",
            "1/1 [==============================] - 0s 23ms/step\n",
            "1/1 [==============================] - 0s 25ms/step\n",
            "1/1 [==============================] - 0s 24ms/step\n",
            "1/1 [==============================] - 0s 26ms/step\n",
            "1/1 [==============================] - 0s 24ms/step\n",
            "1/1 [==============================] - 0s 28ms/step\n",
            "1/1 [==============================] - 0s 22ms/step\n",
            "1/1 [==============================] - 0s 25ms/step\n",
            "1/1 [==============================] - 0s 25ms/step\n",
            "1/1 [==============================] - 0s 25ms/step\n",
            "1/1 [==============================] - 0s 24ms/step\n",
            "1/1 [==============================] - 0s 26ms/step\n",
            "1/1 [==============================] - 0s 26ms/step\n",
            "1/1 [==============================] - 0s 35ms/step\n",
            "1/1 [==============================] - 0s 35ms/step\n",
            "1/1 [==============================] - 0s 37ms/step\n",
            "1/1 [==============================] - 0s 36ms/step\n",
            "1/1 [==============================] - 0s 35ms/step\n",
            "1/1 [==============================] - 0s 36ms/step\n",
            "1/1 [==============================] - 0s 48ms/step\n",
            "1/1 [==============================] - 0s 36ms/step\n",
            "1/1 [==============================] - 0s 33ms/step\n",
            "1/1 [==============================] - 0s 33ms/step\n",
            "1/1 [==============================] - 0s 32ms/step\n",
            "1/1 [==============================] - 0s 35ms/step\n",
            "1/1 [==============================] - 0s 37ms/step\n",
            "1/1 [==============================] - 0s 36ms/step\n",
            "1/1 [==============================] - 0s 36ms/step\n",
            "1/1 [==============================] - 0s 33ms/step\n",
            "1/1 [==============================] - 0s 32ms/step\n",
            "1/1 [==============================] - 0s 34ms/step\n",
            "1/1 [==============================] - 0s 36ms/step\n",
            "1/1 [==============================] - 0s 39ms/step\n",
            "1/1 [==============================] - 0s 33ms/step\n",
            "1/1 [==============================] - 0s 39ms/step\n",
            "1/1 [==============================] - 0s 38ms/step\n",
            "1/1 [==============================] - 0s 48ms/step\n",
            "1/1 [==============================] - 0s 28ms/step\n",
            "1/1 [==============================] - 0s 25ms/step\n",
            "1/1 [==============================] - 0s 23ms/step\n",
            "1/1 [==============================] - 0s 23ms/step\n",
            "1/1 [==============================] - 0s 23ms/step\n",
            "1/1 [==============================] - 0s 23ms/step\n",
            "1/1 [==============================] - 0s 23ms/step\n",
            "1/1 [==============================] - 0s 26ms/step\n",
            "1/1 [==============================] - 0s 31ms/step\n",
            "1/1 [==============================] - 0s 23ms/step\n",
            "1/1 [==============================] - 0s 23ms/step\n",
            "1/1 [==============================] - 0s 22ms/step\n",
            "1/1 [==============================] - 0s 24ms/step\n",
            "1/1 [==============================] - 0s 25ms/step\n",
            "1/1 [==============================] - 0s 23ms/step\n",
            "1/1 [==============================] - 0s 23ms/step\n",
            "1/1 [==============================] - 0s 24ms/step\n",
            "1/1 [==============================] - 0s 25ms/step\n",
            "1/1 [==============================] - 0s 25ms/step\n",
            "1/1 [==============================] - 0s 27ms/step\n",
            "1/1 [==============================] - 0s 23ms/step\n",
            "1/1 [==============================] - 0s 23ms/step\n",
            "1/1 [==============================] - 0s 22ms/step\n",
            "1/1 [==============================] - 0s 24ms/step\n",
            "1/1 [==============================] - 0s 25ms/step\n",
            "1/1 [==============================] - 0s 32ms/step\n",
            "1/1 [==============================] - 0s 23ms/step\n",
            "1/1 [==============================] - 0s 23ms/step\n",
            "1/1 [==============================] - 0s 25ms/step\n",
            "1/1 [==============================] - 0s 23ms/step\n",
            "1/1 [==============================] - 0s 21ms/step\n",
            "1/1 [==============================] - 0s 25ms/step\n",
            "1/1 [==============================] - 0s 22ms/step\n",
            "1/1 [==============================] - 0s 26ms/step\n",
            "1/1 [==============================] - 0s 26ms/step\n",
            "1/1 [==============================] - 0s 26ms/step\n",
            "1/1 [==============================] - 0s 27ms/step\n",
            "1/1 [==============================] - 0s 26ms/step\n",
            "1/1 [==============================] - 0s 23ms/step\n"
          ]
        }
      ]
    },
    {
      "cell_type": "markdown",
      "source": [
        "We can now see the predicted values"
      ],
      "metadata": {
        "id": "vHJkFWxCiyk-"
      }
    },
    {
      "cell_type": "code",
      "source": [
        "true_predictions = scaler.inverse_transform(predictions)\n",
        "true_predictions = pd.DataFrame(true_predictions).iloc[:,:3]\n",
        "true_predictions"
      ],
      "metadata": {
        "colab": {
          "base_uri": "https://localhost:8080/",
          "height": 423
        },
        "id": "h9KRWqZLi0ye",
        "outputId": "3414d629-4dbb-4b12-ca21-d13956435c69"
      },
      "execution_count": null,
      "outputs": [
        {
          "output_type": "execute_result",
          "data": {
            "text/plain": [
              "              0            1            2\n",
              "0    328.793265   502.071151  1054.581582\n",
              "1    283.008224   433.275122   917.668495\n",
              "2   1551.589708  2337.178503  4745.002753\n",
              "3   1584.891205  2387.299813  4838.852735\n",
              "4   1541.529481  2322.545123  4704.192150\n",
              "..          ...          ...          ...\n",
              "87  1762.180331  2653.429807  5364.484214\n",
              "88  1688.147635  2542.638187  5137.925964\n",
              "89  1659.580843  2499.930656  5049.156347\n",
              "90  1506.694937  2270.586249  4596.474459\n",
              "91   389.174767   592.658571  1236.644240\n",
              "\n",
              "[92 rows x 3 columns]"
            ],
            "text/html": [
              "\n",
              "  <div id=\"df-cb1dcb80-5d94-4f14-b2af-62bc1dbbb734\">\n",
              "    <div class=\"colab-df-container\">\n",
              "      <div>\n",
              "<style scoped>\n",
              "    .dataframe tbody tr th:only-of-type {\n",
              "        vertical-align: middle;\n",
              "    }\n",
              "\n",
              "    .dataframe tbody tr th {\n",
              "        vertical-align: top;\n",
              "    }\n",
              "\n",
              "    .dataframe thead th {\n",
              "        text-align: right;\n",
              "    }\n",
              "</style>\n",
              "<table border=\"1\" class=\"dataframe\">\n",
              "  <thead>\n",
              "    <tr style=\"text-align: right;\">\n",
              "      <th></th>\n",
              "      <th>0</th>\n",
              "      <th>1</th>\n",
              "      <th>2</th>\n",
              "    </tr>\n",
              "  </thead>\n",
              "  <tbody>\n",
              "    <tr>\n",
              "      <th>0</th>\n",
              "      <td>328.793265</td>\n",
              "      <td>502.071151</td>\n",
              "      <td>1054.581582</td>\n",
              "    </tr>\n",
              "    <tr>\n",
              "      <th>1</th>\n",
              "      <td>283.008224</td>\n",
              "      <td>433.275122</td>\n",
              "      <td>917.668495</td>\n",
              "    </tr>\n",
              "    <tr>\n",
              "      <th>2</th>\n",
              "      <td>1551.589708</td>\n",
              "      <td>2337.178503</td>\n",
              "      <td>4745.002753</td>\n",
              "    </tr>\n",
              "    <tr>\n",
              "      <th>3</th>\n",
              "      <td>1584.891205</td>\n",
              "      <td>2387.299813</td>\n",
              "      <td>4838.852735</td>\n",
              "    </tr>\n",
              "    <tr>\n",
              "      <th>4</th>\n",
              "      <td>1541.529481</td>\n",
              "      <td>2322.545123</td>\n",
              "      <td>4704.192150</td>\n",
              "    </tr>\n",
              "    <tr>\n",
              "      <th>...</th>\n",
              "      <td>...</td>\n",
              "      <td>...</td>\n",
              "      <td>...</td>\n",
              "    </tr>\n",
              "    <tr>\n",
              "      <th>87</th>\n",
              "      <td>1762.180331</td>\n",
              "      <td>2653.429807</td>\n",
              "      <td>5364.484214</td>\n",
              "    </tr>\n",
              "    <tr>\n",
              "      <th>88</th>\n",
              "      <td>1688.147635</td>\n",
              "      <td>2542.638187</td>\n",
              "      <td>5137.925964</td>\n",
              "    </tr>\n",
              "    <tr>\n",
              "      <th>89</th>\n",
              "      <td>1659.580843</td>\n",
              "      <td>2499.930656</td>\n",
              "      <td>5049.156347</td>\n",
              "    </tr>\n",
              "    <tr>\n",
              "      <th>90</th>\n",
              "      <td>1506.694937</td>\n",
              "      <td>2270.586249</td>\n",
              "      <td>4596.474459</td>\n",
              "    </tr>\n",
              "    <tr>\n",
              "      <th>91</th>\n",
              "      <td>389.174767</td>\n",
              "      <td>592.658571</td>\n",
              "      <td>1236.644240</td>\n",
              "    </tr>\n",
              "  </tbody>\n",
              "</table>\n",
              "<p>92 rows × 3 columns</p>\n",
              "</div>\n",
              "      <button class=\"colab-df-convert\" onclick=\"convertToInteractive('df-cb1dcb80-5d94-4f14-b2af-62bc1dbbb734')\"\n",
              "              title=\"Convert this dataframe to an interactive table.\"\n",
              "              style=\"display:none;\">\n",
              "        \n",
              "  <svg xmlns=\"http://www.w3.org/2000/svg\" height=\"24px\"viewBox=\"0 0 24 24\"\n",
              "       width=\"24px\">\n",
              "    <path d=\"M0 0h24v24H0V0z\" fill=\"none\"/>\n",
              "    <path d=\"M18.56 5.44l.94 2.06.94-2.06 2.06-.94-2.06-.94-.94-2.06-.94 2.06-2.06.94zm-11 1L8.5 8.5l.94-2.06 2.06-.94-2.06-.94L8.5 2.5l-.94 2.06-2.06.94zm10 10l.94 2.06.94-2.06 2.06-.94-2.06-.94-.94-2.06-.94 2.06-2.06.94z\"/><path d=\"M17.41 7.96l-1.37-1.37c-.4-.4-.92-.59-1.43-.59-.52 0-1.04.2-1.43.59L10.3 9.45l-7.72 7.72c-.78.78-.78 2.05 0 2.83L4 21.41c.39.39.9.59 1.41.59.51 0 1.02-.2 1.41-.59l7.78-7.78 2.81-2.81c.8-.78.8-2.07 0-2.86zM5.41 20L4 18.59l7.72-7.72 1.47 1.35L5.41 20z\"/>\n",
              "  </svg>\n",
              "      </button>\n",
              "      \n",
              "  <style>\n",
              "    .colab-df-container {\n",
              "      display:flex;\n",
              "      flex-wrap:wrap;\n",
              "      gap: 12px;\n",
              "    }\n",
              "\n",
              "    .colab-df-convert {\n",
              "      background-color: #E8F0FE;\n",
              "      border: none;\n",
              "      border-radius: 50%;\n",
              "      cursor: pointer;\n",
              "      display: none;\n",
              "      fill: #1967D2;\n",
              "      height: 32px;\n",
              "      padding: 0 0 0 0;\n",
              "      width: 32px;\n",
              "    }\n",
              "\n",
              "    .colab-df-convert:hover {\n",
              "      background-color: #E2EBFA;\n",
              "      box-shadow: 0px 1px 2px rgba(60, 64, 67, 0.3), 0px 1px 3px 1px rgba(60, 64, 67, 0.15);\n",
              "      fill: #174EA6;\n",
              "    }\n",
              "\n",
              "    [theme=dark] .colab-df-convert {\n",
              "      background-color: #3B4455;\n",
              "      fill: #D2E3FC;\n",
              "    }\n",
              "\n",
              "    [theme=dark] .colab-df-convert:hover {\n",
              "      background-color: #434B5C;\n",
              "      box-shadow: 0px 1px 3px 1px rgba(0, 0, 0, 0.15);\n",
              "      filter: drop-shadow(0px 1px 2px rgba(0, 0, 0, 0.3));\n",
              "      fill: #FFFFFF;\n",
              "    }\n",
              "  </style>\n",
              "\n",
              "      <script>\n",
              "        const buttonEl =\n",
              "          document.querySelector('#df-cb1dcb80-5d94-4f14-b2af-62bc1dbbb734 button.colab-df-convert');\n",
              "        buttonEl.style.display =\n",
              "          google.colab.kernel.accessAllowed ? 'block' : 'none';\n",
              "\n",
              "        async function convertToInteractive(key) {\n",
              "          const element = document.querySelector('#df-cb1dcb80-5d94-4f14-b2af-62bc1dbbb734');\n",
              "          const dataTable =\n",
              "            await google.colab.kernel.invokeFunction('convertToInteractive',\n",
              "                                                     [key], {});\n",
              "          if (!dataTable) return;\n",
              "\n",
              "          const docLinkHtml = 'Like what you see? Visit the ' +\n",
              "            '<a target=\"_blank\" href=https://colab.research.google.com/notebooks/data_table.ipynb>data table notebook</a>'\n",
              "            + ' to learn more about interactive tables.';\n",
              "          element.innerHTML = '';\n",
              "          dataTable['output_type'] = 'display_data';\n",
              "          await google.colab.output.renderOutput(dataTable, element);\n",
              "          const docLink = document.createElement('div');\n",
              "          docLink.innerHTML = docLinkHtml;\n",
              "          element.appendChild(docLink);\n",
              "        }\n",
              "      </script>\n",
              "    </div>\n",
              "  </div>\n",
              "  "
            ]
          },
          "metadata": {},
          "execution_count": 40
        }
      ]
    },
    {
      "cell_type": "markdown",
      "source": [
        "Let us append these values to the maindf dataframe"
      ],
      "metadata": {
        "id": "JGI98_iNi2mC"
      }
    },
    {
      "cell_type": "code",
      "source": [
        "final_df = corrected_df"
      ],
      "metadata": {
        "id": "8bfxXkaL_gsi"
      },
      "execution_count": null,
      "outputs": []
    },
    {
      "cell_type": "code",
      "source": [
        "c = final_df.iloc[:-92,:].shape[0]\n",
        "\n",
        "for i in range(92):\n",
        "\n",
        "    final_df.iloc[c+i] = true_predictions.iloc[i]\n",
        "\n",
        "final_df"
      ],
      "metadata": {
        "colab": {
          "base_uri": "https://localhost:8080/",
          "height": 455
        },
        "id": "mwe3K2Iai-Il",
        "outputId": "be47d1d2-e471-4714-cc60-74c3ab634982"
      },
      "execution_count": null,
      "outputs": [
        {
          "output_type": "execute_result",
          "data": {
            "text/plain": [
              "            No_of_calls_from_commercial_card  No_of_calls_from_retail_card  \\\n",
              "Date                                                                         \n",
              "2017-01-01                        264.000000                    403.000000   \n",
              "2017-01-02                        528.000000                    792.000000   \n",
              "2017-01-03                       2505.000000                   3774.000000   \n",
              "2017-01-04                       2145.000000                   3236.000000   \n",
              "2017-01-05                       2164.000000                   3265.000000   \n",
              "...                                      ...                           ...   \n",
              "2021-07-27                       1762.180331                   2653.429807   \n",
              "2021-07-28                       1688.147635                   2542.638187   \n",
              "2021-07-29                       1659.580843                   2499.930656   \n",
              "2021-07-30                       1506.694937                   2270.586249   \n",
              "2021-07-31                        389.174767                    592.658571   \n",
              "\n",
              "            No_of_calls_from_student_card  \n",
              "Date                                       \n",
              "2017-01-01                     860.000000  \n",
              "2017-01-02                    1681.000000  \n",
              "2017-01-03                    7639.000000  \n",
              "2017-01-04                    6513.000000  \n",
              "2017-01-05                    6604.000000  \n",
              "...                                   ...  \n",
              "2021-07-27                    5364.484214  \n",
              "2021-07-28                    5137.925964  \n",
              "2021-07-29                    5049.156347  \n",
              "2021-07-30                    4596.474459  \n",
              "2021-07-31                    1236.644240  \n",
              "\n",
              "[1673 rows x 3 columns]"
            ],
            "text/html": [
              "\n",
              "  <div id=\"df-ba09b28a-e930-44f6-8197-6c08cd1019e7\">\n",
              "    <div class=\"colab-df-container\">\n",
              "      <div>\n",
              "<style scoped>\n",
              "    .dataframe tbody tr th:only-of-type {\n",
              "        vertical-align: middle;\n",
              "    }\n",
              "\n",
              "    .dataframe tbody tr th {\n",
              "        vertical-align: top;\n",
              "    }\n",
              "\n",
              "    .dataframe thead th {\n",
              "        text-align: right;\n",
              "    }\n",
              "</style>\n",
              "<table border=\"1\" class=\"dataframe\">\n",
              "  <thead>\n",
              "    <tr style=\"text-align: right;\">\n",
              "      <th></th>\n",
              "      <th>No_of_calls_from_commercial_card</th>\n",
              "      <th>No_of_calls_from_retail_card</th>\n",
              "      <th>No_of_calls_from_student_card</th>\n",
              "    </tr>\n",
              "    <tr>\n",
              "      <th>Date</th>\n",
              "      <th></th>\n",
              "      <th></th>\n",
              "      <th></th>\n",
              "    </tr>\n",
              "  </thead>\n",
              "  <tbody>\n",
              "    <tr>\n",
              "      <th>2017-01-01</th>\n",
              "      <td>264.000000</td>\n",
              "      <td>403.000000</td>\n",
              "      <td>860.000000</td>\n",
              "    </tr>\n",
              "    <tr>\n",
              "      <th>2017-01-02</th>\n",
              "      <td>528.000000</td>\n",
              "      <td>792.000000</td>\n",
              "      <td>1681.000000</td>\n",
              "    </tr>\n",
              "    <tr>\n",
              "      <th>2017-01-03</th>\n",
              "      <td>2505.000000</td>\n",
              "      <td>3774.000000</td>\n",
              "      <td>7639.000000</td>\n",
              "    </tr>\n",
              "    <tr>\n",
              "      <th>2017-01-04</th>\n",
              "      <td>2145.000000</td>\n",
              "      <td>3236.000000</td>\n",
              "      <td>6513.000000</td>\n",
              "    </tr>\n",
              "    <tr>\n",
              "      <th>2017-01-05</th>\n",
              "      <td>2164.000000</td>\n",
              "      <td>3265.000000</td>\n",
              "      <td>6604.000000</td>\n",
              "    </tr>\n",
              "    <tr>\n",
              "      <th>...</th>\n",
              "      <td>...</td>\n",
              "      <td>...</td>\n",
              "      <td>...</td>\n",
              "    </tr>\n",
              "    <tr>\n",
              "      <th>2021-07-27</th>\n",
              "      <td>1762.180331</td>\n",
              "      <td>2653.429807</td>\n",
              "      <td>5364.484214</td>\n",
              "    </tr>\n",
              "    <tr>\n",
              "      <th>2021-07-28</th>\n",
              "      <td>1688.147635</td>\n",
              "      <td>2542.638187</td>\n",
              "      <td>5137.925964</td>\n",
              "    </tr>\n",
              "    <tr>\n",
              "      <th>2021-07-29</th>\n",
              "      <td>1659.580843</td>\n",
              "      <td>2499.930656</td>\n",
              "      <td>5049.156347</td>\n",
              "    </tr>\n",
              "    <tr>\n",
              "      <th>2021-07-30</th>\n",
              "      <td>1506.694937</td>\n",
              "      <td>2270.586249</td>\n",
              "      <td>4596.474459</td>\n",
              "    </tr>\n",
              "    <tr>\n",
              "      <th>2021-07-31</th>\n",
              "      <td>389.174767</td>\n",
              "      <td>592.658571</td>\n",
              "      <td>1236.644240</td>\n",
              "    </tr>\n",
              "  </tbody>\n",
              "</table>\n",
              "<p>1673 rows × 3 columns</p>\n",
              "</div>\n",
              "      <button class=\"colab-df-convert\" onclick=\"convertToInteractive('df-ba09b28a-e930-44f6-8197-6c08cd1019e7')\"\n",
              "              title=\"Convert this dataframe to an interactive table.\"\n",
              "              style=\"display:none;\">\n",
              "        \n",
              "  <svg xmlns=\"http://www.w3.org/2000/svg\" height=\"24px\"viewBox=\"0 0 24 24\"\n",
              "       width=\"24px\">\n",
              "    <path d=\"M0 0h24v24H0V0z\" fill=\"none\"/>\n",
              "    <path d=\"M18.56 5.44l.94 2.06.94-2.06 2.06-.94-2.06-.94-.94-2.06-.94 2.06-2.06.94zm-11 1L8.5 8.5l.94-2.06 2.06-.94-2.06-.94L8.5 2.5l-.94 2.06-2.06.94zm10 10l.94 2.06.94-2.06 2.06-.94-2.06-.94-.94-2.06-.94 2.06-2.06.94z\"/><path d=\"M17.41 7.96l-1.37-1.37c-.4-.4-.92-.59-1.43-.59-.52 0-1.04.2-1.43.59L10.3 9.45l-7.72 7.72c-.78.78-.78 2.05 0 2.83L4 21.41c.39.39.9.59 1.41.59.51 0 1.02-.2 1.41-.59l7.78-7.78 2.81-2.81c.8-.78.8-2.07 0-2.86zM5.41 20L4 18.59l7.72-7.72 1.47 1.35L5.41 20z\"/>\n",
              "  </svg>\n",
              "      </button>\n",
              "      \n",
              "  <style>\n",
              "    .colab-df-container {\n",
              "      display:flex;\n",
              "      flex-wrap:wrap;\n",
              "      gap: 12px;\n",
              "    }\n",
              "\n",
              "    .colab-df-convert {\n",
              "      background-color: #E8F0FE;\n",
              "      border: none;\n",
              "      border-radius: 50%;\n",
              "      cursor: pointer;\n",
              "      display: none;\n",
              "      fill: #1967D2;\n",
              "      height: 32px;\n",
              "      padding: 0 0 0 0;\n",
              "      width: 32px;\n",
              "    }\n",
              "\n",
              "    .colab-df-convert:hover {\n",
              "      background-color: #E2EBFA;\n",
              "      box-shadow: 0px 1px 2px rgba(60, 64, 67, 0.3), 0px 1px 3px 1px rgba(60, 64, 67, 0.15);\n",
              "      fill: #174EA6;\n",
              "    }\n",
              "\n",
              "    [theme=dark] .colab-df-convert {\n",
              "      background-color: #3B4455;\n",
              "      fill: #D2E3FC;\n",
              "    }\n",
              "\n",
              "    [theme=dark] .colab-df-convert:hover {\n",
              "      background-color: #434B5C;\n",
              "      box-shadow: 0px 1px 3px 1px rgba(0, 0, 0, 0.15);\n",
              "      filter: drop-shadow(0px 1px 2px rgba(0, 0, 0, 0.3));\n",
              "      fill: #FFFFFF;\n",
              "    }\n",
              "  </style>\n",
              "\n",
              "      <script>\n",
              "        const buttonEl =\n",
              "          document.querySelector('#df-ba09b28a-e930-44f6-8197-6c08cd1019e7 button.colab-df-convert');\n",
              "        buttonEl.style.display =\n",
              "          google.colab.kernel.accessAllowed ? 'block' : 'none';\n",
              "\n",
              "        async function convertToInteractive(key) {\n",
              "          const element = document.querySelector('#df-ba09b28a-e930-44f6-8197-6c08cd1019e7');\n",
              "          const dataTable =\n",
              "            await google.colab.kernel.invokeFunction('convertToInteractive',\n",
              "                                                     [key], {});\n",
              "          if (!dataTable) return;\n",
              "\n",
              "          const docLinkHtml = 'Like what you see? Visit the ' +\n",
              "            '<a target=\"_blank\" href=https://colab.research.google.com/notebooks/data_table.ipynb>data table notebook</a>'\n",
              "            + ' to learn more about interactive tables.';\n",
              "          element.innerHTML = '';\n",
              "          dataTable['output_type'] = 'display_data';\n",
              "          await google.colab.output.renderOutput(dataTable, element);\n",
              "          const docLink = document.createElement('div');\n",
              "          docLink.innerHTML = docLinkHtml;\n",
              "          element.appendChild(docLink);\n",
              "        }\n",
              "      </script>\n",
              "    </div>\n",
              "  </div>\n",
              "  "
            ]
          },
          "metadata": {},
          "execution_count": 48
        }
      ]
    },
    {
      "cell_type": "markdown",
      "source": [
        "Finally, we will store it in an excel file to conclude the project"
      ],
      "metadata": {
        "id": "lx-c7JDzjB6U"
      }
    },
    {
      "cell_type": "code",
      "source": [
        "final_df.to_excel('Predicted_Values.xlsx')"
      ],
      "metadata": {
        "id": "xBT4DfAdjKTY"
      },
      "execution_count": null,
      "outputs": []
    }
  ]
}